{
 "cells": [
  {
   "cell_type": "code",
   "id": "initial_id",
   "metadata": {
    "collapsed": true,
    "ExecuteTime": {
     "end_time": "2025-06-07T14:06:35.890141Z",
     "start_time": "2025-06-07T14:06:35.708721Z"
    }
   },
   "source": [
    "import requests\n",
    "import ollama\n"
   ],
   "outputs": [],
   "execution_count": 2
  },
  {
   "metadata": {
    "ExecuteTime": {
     "end_time": "2025-06-07T14:06:36.186089Z",
     "start_time": "2025-06-07T14:06:36.182778Z"
    }
   },
   "cell_type": "code",
   "source": [
    "OLLAMA_API = \"http://localhost:11434/api/chat\"\n",
    "HEADERS = {\"Content-Type\": \"application/json\"}\n",
    "MODEL = \"mistral\""
   ],
   "id": "4a500c1562541205",
   "outputs": [],
   "execution_count": 3
  },
  {
   "metadata": {
    "ExecuteTime": {
     "end_time": "2025-06-07T14:06:36.944457Z",
     "start_time": "2025-06-07T14:06:36.941660Z"
    }
   },
   "cell_type": "code",
   "source": [
    "messages = [\n",
    "    {\n",
    "        \"role\": \"user\",\n",
    "        \"content\": \"What is the capital of England?\"\n",
    "    }\n",
    "]\n",
    "\n",
    "payload = {\n",
    "    \"model\": MODEL,\n",
    "    \"messages\": messages,\n",
    "    \"stream\": False,\n",
    "}"
   ],
   "id": "8f47d49976c88766",
   "outputs": [],
   "execution_count": 4
  },
  {
   "metadata": {
    "ExecuteTime": {
     "end_time": "2025-06-07T14:06:57.348674Z",
     "start_time": "2025-06-07T14:06:53.303787Z"
    }
   },
   "cell_type": "code",
   "source": [
    "# Manual request example\n",
    "resp = requests.post(OLLAMA_API, json=payload, headers=HEADERS)\n",
    "result = resp.json()\n",
    "result"
   ],
   "id": "abead6b56325dde6",
   "outputs": [
    {
     "data": {
      "text/plain": [
       "{'model': 'mistral',\n",
       " 'created_at': '2025-06-07T14:06:57.341849425Z',\n",
       " 'message': {'role': 'assistant',\n",
       "  'content': ' England does not have a capital city as it is one of the four countries that make up the United Kingdom. The capital city of the United Kingdom is London.'},\n",
       " 'done_reason': 'stop',\n",
       " 'done': True,\n",
       " 'total_duration': 4029497627,\n",
       " 'load_duration': 4095959,\n",
       " 'prompt_eval_count': 12,\n",
       " 'prompt_eval_duration': 164609250,\n",
       " 'eval_count': 33,\n",
       " 'eval_duration': 3860193877}"
      ]
     },
     "execution_count": 6,
     "metadata": {},
     "output_type": "execute_result"
    }
   ],
   "execution_count": 6
  },
  {
   "metadata": {
    "ExecuteTime": {
     "end_time": "2025-06-07T14:08:18.588532Z",
     "start_time": "2025-06-07T14:08:12.854692Z"
    }
   },
   "cell_type": "code",
   "source": [
    "# Using the ollama sdk\n",
    "resp2 = ollama.chat(model=MODEL, messages=messages)\n",
    "result2 = resp2[\"message\"][\"content\"]\n",
    "result2"
   ],
   "id": "8d1ac0eaf0f8cd78",
   "outputs": [
    {
     "data": {
      "text/plain": [
       "\" The capital city of England is London. However, it's important to note that England is one of the four countries that make up the United Kingdom, and London is also the capital of the UK as a whole.\""
      ]
     },
     "execution_count": 8,
     "metadata": {},
     "output_type": "execute_result"
    }
   ],
   "execution_count": 8
  },
  {
   "metadata": {},
   "cell_type": "code",
   "outputs": [],
   "execution_count": null,
   "source": "",
   "id": "a8420f78cf08c13e"
  }
 ],
 "metadata": {
  "kernelspec": {
   "display_name": "Python 3",
   "language": "python",
   "name": "python3"
  },
  "language_info": {
   "codemirror_mode": {
    "name": "ipython",
    "version": 2
   },
   "file_extension": ".py",
   "mimetype": "text/x-python",
   "name": "python",
   "nbconvert_exporter": "python",
   "pygments_lexer": "ipython2",
   "version": "2.7.6"
  }
 },
 "nbformat": 4,
 "nbformat_minor": 5
}
