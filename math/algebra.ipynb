{
 "cells": [
  {
   "metadata": {},
   "cell_type": "markdown",
   "source": "",
   "id": "415d5b8a62df4c5"
  },
  {
   "metadata": {},
   "cell_type": "markdown",
   "source": [
    "# Maths\n",
    "\n",
    "\n",
    "##### Mean (*or average*)\n",
    "- The mean of average value is represented by $\\overline{x}$.\n",
    "- The mean is sensitive to outliers\n",
    "\n",
    "$$\n",
    "\\overline{x} = \\displaystyle\\sum_{i=0}^n \\frac{xi}{n}\n",
    "$$\n",
    "\n",
    "#### Median\n",
    "- The midpoint of the data.\n",
    "- The mean is sensitive to outliers\n",
    "- e.g If we have `5 7 3 38 7`\n",
    "  - Arrange the data in order from smallest to largest - `3 5 7 7 38`\n",
    "- Of the number of points is even (there is no middle number)\n",
    "then average 2 values around the middle. e.g `3 5 7 7`\n",
    "\n",
    "$\\frac{5+7}{2} = 6$"
   ],
   "id": "f0402956f834cd66"
  },
  {
   "metadata": {},
   "cell_type": "code",
   "outputs": [],
   "execution_count": null,
   "source": "#",
   "id": "1a9633920982a274"
  }
 ],
 "metadata": {
  "kernelspec": {
   "display_name": "Python 3",
   "language": "python",
   "name": "python3"
  },
  "language_info": {
   "codemirror_mode": {
    "name": "ipython",
    "version": 2
   },
   "file_extension": ".py",
   "mimetype": "text/x-python",
   "name": "python",
   "nbconvert_exporter": "python",
   "pygments_lexer": "ipython2",
   "version": "2.7.6"
  }
 },
 "nbformat": 4,
 "nbformat_minor": 5
}
