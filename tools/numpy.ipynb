{
 "cells": [
  {
   "cell_type": "code",
   "id": "initial_id",
   "metadata": {
    "collapsed": true,
    "ExecuteTime": {
     "end_time": "2024-11-19T01:43:09.993699Z",
     "start_time": "2024-11-19T01:43:09.839605Z"
    }
   },
   "source": [
    "\n",
    "import numpy as np"
   ],
   "outputs": [],
   "execution_count": 1
  },
  {
   "metadata": {},
   "cell_type": "markdown",
   "source": [
    "# Numpy Arrays\n",
    "Nump arrays come in 2 flavours:\n",
    "- 1D Vector arrays\n",
    "- 2D Matrices\n"
   ],
   "id": "7a0a2b92e9c28a32"
  },
  {
   "metadata": {
    "ExecuteTime": {
     "end_time": "2024-11-19T01:46:00.710091Z",
     "start_time": "2024-11-19T01:46:00.705067Z"
    }
   },
   "cell_type": "code",
   "source": [
    "my_list = [1,2,3]\n",
    "arr = np.array(my_list)\n",
    "arr"
   ],
   "id": "261882f78e567c7c",
   "outputs": [
    {
     "data": {
      "text/plain": [
       "array([1, 2, 3])"
      ]
     },
     "execution_count": 6,
     "metadata": {},
     "output_type": "execute_result"
    }
   ],
   "execution_count": 6
  },
  {
   "metadata": {
    "ExecuteTime": {
     "end_time": "2024-11-19T01:46:29.183587Z",
     "start_time": "2024-11-19T01:46:29.179800Z"
    }
   },
   "cell_type": "code",
   "source": [
    "my_mat = [[1,2,3],[4,5,6],[7,8,9]]\n",
    "my_mat = np.array(my_mat)\n",
    "my_mat"
   ],
   "id": "fe57975ff847c881",
   "outputs": [
    {
     "data": {
      "text/plain": [
       "array([[1, 2, 3],\n",
       "       [4, 5, 6],\n",
       "       [7, 8, 9]])"
      ]
     },
     "execution_count": 7,
     "metadata": {},
     "output_type": "execute_result"
    }
   ],
   "execution_count": 7
  },
  {
   "metadata": {},
   "cell_type": "markdown",
   "source": "Most common way to create numpy arrays is with `np.arange()`",
   "id": "e4d6d831eff950cc"
  },
  {
   "metadata": {
    "ExecuteTime": {
     "end_time": "2024-11-19T01:49:18.156463Z",
     "start_time": "2024-11-19T01:49:18.151810Z"
    }
   },
   "cell_type": "code",
   "source": "np.arange(0, 11, 2)",
   "id": "aab28a4782558523",
   "outputs": [
    {
     "data": {
      "text/plain": [
       "array([ 0,  2,  4,  6,  8, 10])"
      ]
     },
     "execution_count": 9,
     "metadata": {},
     "output_type": "execute_result"
    }
   ],
   "execution_count": 9
  },
  {
   "metadata": {},
   "cell_type": "code",
   "outputs": [],
   "execution_count": null,
   "source": "",
   "id": "877a8987e9a153ae"
  }
 ],
 "metadata": {
  "kernelspec": {
   "display_name": "Python 3",
   "language": "python",
   "name": "python3"
  },
  "language_info": {
   "codemirror_mode": {
    "name": "ipython",
    "version": 2
   },
   "file_extension": ".py",
   "mimetype": "text/x-python",
   "name": "python",
   "nbconvert_exporter": "python",
   "pygments_lexer": "ipython2",
   "version": "2.7.6"
  }
 },
 "nbformat": 4,
 "nbformat_minor": 5
}
