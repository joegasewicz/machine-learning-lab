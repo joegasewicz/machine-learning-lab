{
 "cells": [
  {
   "metadata": {},
   "cell_type": "markdown",
   "source": [
    "s### Real Numbers\n",
    "- Rational Numbers\n",
    "- Irrational Numbers\n",
    "\n",
    "### Irrational Numbers\n",
    "Numbers that can't be written as a fraction.\n",
    "\n",
    "e.g $\\sqrt{2}, \\pi$\n",
    "\n",
    "### Rational Numbers\n",
    "Includes: *Integers, Whole Numbers, Natural Numbers*\n",
    "\n",
    "Example: `2/3, -1, 0, 1, 2/4, 5/8...`\n",
    "\n",
    "#### Integers\n",
    "Includes: *Whole Numbers, Natural Numbers*\n",
    "\n",
    "Example: `..., -3, -2, -1, 0, 1, 2, 3, ...`\n",
    "\n",
    "#### Whole Numbers \n",
    "Includes: *Natural Numbers*\n",
    "\n",
    "Example: `0, 1, 2, 3, ...`\n",
    "\n",
    "#### Natural Numbers (aka counting) \n",
    "Example: `1, 2, 3, ...`\n",
    "  \n",
    " \n",
    "### Number Set Symbols\n",
    "- **$\\Re$** - Real Numbers\n",
    "- **Q** Rational Numbers\n",
    "- **Z** Integers\n",
    "- **W** Whole Numbers\n",
    "- **N** Natural Numbers\n",
    "- **R-Q** Irrational Numbers\n",
    "\n",
    "### Identity Numbers\n",
    "Identity numbers are numbers that don't change.\n",
    "- The identity for addition is 0.\n",
    "    - *We can add 0 to any number & it doesn't change the original value.*\n",
    "- the identity of multiplication is 1.\n",
    "    - *We can mulitply any number by 1 & it doesn't change the original value.*\n",
    "\n",
    "### Opposite Of A Number\n",
    "Opposite numbers are numbers that are the same distance away from 0.\n",
    "```\n",
    "<- -|- -|- -|- | -|- -|- -|- ->\n",
    "   -3  -2  -1  0  1   2   3\n",
    "```\n",
    "e.g. 2 & -2 are both *2 **units** away from zero*\n",
    "\n",
    "**Therefore, 2 & -2 are opposite numbers**.\n",
    "\n",
    "`-1(2) = -2` or `-1 * 2 = -2`\n",
    "`(-10)(-1) = 10` or `-10 * -1 = 10`"
   ],
   "id": "9dc8c798a73e45be"
  },
  {
   "metadata": {},
   "cell_type": "code",
   "outputs": [],
   "execution_count": null,
   "source": "",
   "id": "e859c5528311a5f8"
  }
 ],
 "metadata": {
  "kernelspec": {
   "display_name": "Python 3",
   "language": "python",
   "name": "python3"
  },
  "language_info": {
   "codemirror_mode": {
    "name": "ipython",
    "version": 2
   },
   "file_extension": ".py",
   "mimetype": "text/x-python",
   "name": "python",
   "nbconvert_exporter": "python",
   "pygments_lexer": "ipython2",
   "version": "2.7.6"
  }
 },
 "nbformat": 4,
 "nbformat_minor": 5
}
