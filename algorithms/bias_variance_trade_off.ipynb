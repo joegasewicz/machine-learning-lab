{
 "cells": [
  {
   "cell_type": "code",
   "id": "initial_id",
   "metadata": {
    "collapsed": true,
    "ExecuteTime": {
     "end_time": "2024-12-04T12:59:52.965931Z",
     "start_time": "2024-12-04T12:59:52.964376Z"
    }
   },
   "source": [
    ""
   ],
   "outputs": [],
   "execution_count": null
  },
  {
   "metadata": {},
   "cell_type": "markdown",
   "source": [
    "# Bias Variance Trade Off\n",
    "*If the model performs way to well on the training dataset but shows significant lower accuracy on the test dataset,\n",
    "the model is likely overfitted.*\n",
    "\n",
    "- The **bias-variance trade off** is the point where we are adding just noise by adding model\n",
    "complexity (flexibility).\n",
    "- The training error goes down as it has to but the test error is starting to go up.\n",
    "- The model after the **bias trade-off** begins to overfit.\n",
    "\n",
    "#### Low To High Variance & Bias Chart\n",
    "The below target graph represents the following 4 states:\n",
    "- Low Bias / Low Variance \n",
    "- High Bias / Low Variance\n",
    "- Low Bias / High Variance\n",
    "- High Bias / High Variance\n",
    "\n",
    "![variance pic](../assets/bias-variance.png)"
   ],
   "id": "696dc8c32f508010"
  },
  {
   "metadata": {},
   "cell_type": "code",
   "outputs": [],
   "execution_count": null,
   "source": "",
   "id": "f41e38e1f5c48ff4"
  }
 ],
 "metadata": {
  "kernelspec": {
   "display_name": "Python 3",
   "language": "python",
   "name": "python3"
  },
  "language_info": {
   "codemirror_mode": {
    "name": "ipython",
    "version": 2
   },
   "file_extension": ".py",
   "mimetype": "text/x-python",
   "name": "python",
   "nbconvert_exporter": "python",
   "pygments_lexer": "ipython2",
   "version": "2.7.6"
  }
 },
 "nbformat": 4,
 "nbformat_minor": 5
}
