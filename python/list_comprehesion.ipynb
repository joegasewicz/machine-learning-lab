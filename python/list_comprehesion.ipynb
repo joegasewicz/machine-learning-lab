{
 "cells": [
  {
   "cell_type": "code",
   "id": "initial_id",
   "metadata": {
    "collapsed": true,
    "ExecuteTime": {
     "end_time": "2025-03-19T19:52:47.611212Z",
     "start_time": "2025-03-19T19:52:47.608587Z"
    }
   },
   "source": "# List Comprehension",
   "outputs": [],
   "execution_count": 1
  },
  {
   "metadata": {
    "ExecuteTime": {
     "end_time": "2025-03-19T20:10:37.318960Z",
     "start_time": "2025-03-19T20:10:37.316109Z"
    }
   },
   "cell_type": "code",
   "source": [
    "\n",
    "# (values) = [ (expression) for (value) in (collection) ]\n",
    "squares = [x for x in range(10)]\n",
    "squares"
   ],
   "id": "6d121a2e32ea6177",
   "outputs": [
    {
     "data": {
      "text/plain": [
       "[0, 1, 2, 3, 4, 5, 6, 7, 8, 9]"
      ]
     },
     "execution_count": 14,
     "metadata": {},
     "output_type": "execute_result"
    }
   ],
   "execution_count": 14
  },
  {
   "metadata": {
    "ExecuteTime": {
     "end_time": "2025-03-19T19:54:19.432207Z",
     "start_time": "2025-03-19T19:54:19.428857Z"
    }
   },
   "cell_type": "code",
   "source": [
    "squares = []\n",
    "for x in range(10):\n",
    "    squares.append(x)\n",
    "squares"
   ],
   "id": "8766892de63f6cc1",
   "outputs": [
    {
     "data": {
      "text/plain": [
       "[0, 1, 2, 3, 4, 5, 6, 7, 8, 9]"
      ]
     },
     "execution_count": 4,
     "metadata": {},
     "output_type": "execute_result"
    }
   ],
   "execution_count": 4
  },
  {
   "metadata": {
    "ExecuteTime": {
     "end_time": "2025-03-19T19:59:48.802851Z",
     "start_time": "2025-03-19T19:59:48.799047Z"
    }
   },
   "cell_type": "code",
   "source": [
    "# Filtering\n",
    "# (values) = [ (expression) for (value) in (collection) if (condition)]\n",
    "even_numbers = [x for x in range(11) if x % 2 == 0 and x != 0]\n",
    "even_numbers"
   ],
   "id": "12b41f61c863d75e",
   "outputs": [
    {
     "data": {
      "text/plain": [
       "[2, 4, 6, 8, 10]"
      ]
     },
     "execution_count": 13,
     "metadata": {},
     "output_type": "execute_result"
    }
   ],
   "execution_count": 13
  }
 ],
 "metadata": {
  "kernelspec": {
   "display_name": "Python 3",
   "language": "python",
   "name": "python3"
  },
  "language_info": {
   "codemirror_mode": {
    "name": "ipython",
    "version": 2
   },
   "file_extension": ".py",
   "mimetype": "text/x-python",
   "name": "python",
   "nbconvert_exporter": "python",
   "pygments_lexer": "ipython2",
   "version": "2.7.6"
  }
 },
 "nbformat": 4,
 "nbformat_minor": 5
}
