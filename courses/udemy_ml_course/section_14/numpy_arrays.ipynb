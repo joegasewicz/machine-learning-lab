{
 "cells": [
  {
   "cell_type": "code",
   "id": "initial_id",
   "metadata": {
    "collapsed": true,
    "ExecuteTime": {
     "end_time": "2024-08-22T15:36:18.892233Z",
     "start_time": "2024-08-22T15:36:18.863813Z"
    }
   },
   "source": "import numpy as np\n",
   "outputs": [],
   "execution_count": 1
  },
  {
   "metadata": {
    "ExecuteTime": {
     "end_time": "2024-08-22T15:37:56.568276Z",
     "start_time": "2024-08-22T15:37:56.564883Z"
    }
   },
   "cell_type": "code",
   "source": "num1 = np.array([1,2,3,4], dtype=\"\")",
   "id": "b65743c61559a4f5",
   "outputs": [],
   "execution_count": 6
  },
  {
   "metadata": {
    "ExecuteTime": {
     "end_time": "2024-08-22T15:37:57.126594Z",
     "start_time": "2024-08-22T15:37:57.122171Z"
    }
   },
   "cell_type": "code",
   "source": "num1",
   "id": "66b1120e1e6521b5",
   "outputs": [
    {
     "data": {
      "text/plain": [
       "array([1., 2., 3., 4.])"
      ]
     },
     "execution_count": 7,
     "metadata": {},
     "output_type": "execute_result"
    }
   ],
   "execution_count": 7
  },
  {
   "metadata": {
    "ExecuteTime": {
     "end_time": "2024-08-22T15:53:54.317027Z",
     "start_time": "2024-08-22T15:53:54.313532Z"
    }
   },
   "cell_type": "code",
   "source": [
    "num2 = np.array([[1,2], [3,4], [5,6]])\n",
    "num2"
   ],
   "id": "28f63eafb118f4b8",
   "outputs": [
    {
     "data": {
      "text/plain": [
       "array([[1, 2],\n",
       "       [3, 4],\n",
       "       [5, 6]])"
      ]
     },
     "execution_count": 8,
     "metadata": {},
     "output_type": "execute_result"
    }
   ],
   "execution_count": 8
  },
  {
   "metadata": {},
   "cell_type": "code",
   "outputs": [],
   "execution_count": null,
   "source": "",
   "id": "2385048c5a36aa85"
  }
 ],
 "metadata": {
  "kernelspec": {
   "display_name": "Python 3",
   "language": "python",
   "name": "python3"
  },
  "language_info": {
   "codemirror_mode": {
    "name": "ipython",
    "version": 2
   },
   "file_extension": ".py",
   "mimetype": "text/x-python",
   "name": "python",
   "nbconvert_exporter": "python",
   "pygments_lexer": "ipython2",
   "version": "2.7.6"
  }
 },
 "nbformat": 4,
 "nbformat_minor": 5
}
