{
 "cells": [
  {
   "metadata": {},
   "cell_type": "markdown",
   "source": [
    "# Regression Error Metrics\n",
    "Regression is a task when a model attempts to predict continuous values (not categorical values - which is classification)\n",
    "\n",
    "Examples of Evaluating Regression:\n",
    "1. Attempting to predict the price of a house given its features.\n",
    "    - (predicting the country a house is in is classification)\n",
    "    \n",
    "Common Evaluation Metrics:\n",
    "\n",
    "### Mean Absolute Error (MAE)\n",
    "\n",
    "\n",
    "The mean of the absolute value of errors. For example:\n",
    "- Compare the prediction of the house price to the true house price.\n",
    "\n",
    "Take the difference between true price minus the predicted price & take the absolute value.\n",
    "\n",
    "\n",
    "\n",
    "$$\n",
    "\\text{MAE} = \\frac{1}{n} \\sum_{i=1}^{n} | y_i - \\hat{y}_i |\n",
    "$$\n",
    "\n",
    "real number denoted by `||` & inside that is true minus predicted \n",
    "\n"
   ],
   "id": "d6b69c8e9b0e5968"
  },
  {
   "metadata": {},
   "cell_type": "code",
   "outputs": [],
   "execution_count": null,
   "source": "",
   "id": "8236d97b97c98ecd"
  },
  {
   "metadata": {},
   "cell_type": "markdown",
   "source": [
    "### Mean Squared Error (MSE)\n",
    "\n",
    "$$\n",
    "\\text{MSE} = \\frac{1}{n} \\sum_{i=1}^{n} (y_i - \\hat{y}_i)^2\n",
    "$$\n",
    "\n",
    "\n"
   ],
   "id": "ec1c8c68fd6dcfbb"
  },
  {
   "metadata": {},
   "cell_type": "code",
   "outputs": [],
   "execution_count": null,
   "source": "",
   "id": "6560e38ed36492cb"
  },
  {
   "metadata": {},
   "cell_type": "markdown",
   "source": [
    "\n",
    "### Root Mean Square Error (RMSE)\n",
    "\n",
    "$$\n",
    "\\text{RMSE} = \\sqrt{\\frac{1}{n} \\sum_{i=1}^{n} (y_i - \\hat{y}_i)^2}\n",
    "$$"
   ],
   "id": "e5aa5b5d396bb007"
  },
  {
   "metadata": {},
   "cell_type": "code",
   "outputs": [],
   "execution_count": null,
   "source": "",
   "id": "cb7ef5759d19f232"
  }
 ],
 "metadata": {
  "kernelspec": {
   "display_name": "Python 3",
   "language": "python",
   "name": "python3"
  },
  "language_info": {
   "codemirror_mode": {
    "name": "ipython",
    "version": 2
   },
   "file_extension": ".py",
   "mimetype": "text/x-python",
   "name": "python",
   "nbconvert_exporter": "python",
   "pygments_lexer": "ipython2",
   "version": "2.7.6"
  }
 },
 "nbformat": 4,
 "nbformat_minor": 5
}
