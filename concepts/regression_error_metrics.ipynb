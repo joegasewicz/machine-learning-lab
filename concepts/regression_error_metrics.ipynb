{
 "cells": [
  {
   "metadata": {},
   "cell_type": "markdown",
   "source": [
    "# Regression Error Metrics\n",
    "Regression is a task when a model attempts to predict continuous values (not categorical values - which is classification)\n",
    "\n",
    "Examples of Evaluating Regression:\n",
    "1. Attempting to predict the price of a house given its features.\n",
    "    - (predicting the country a house is in is classification)\n",
    "    \n",
    "Common Evaluation Metrics:\n",
    "\n",
    "### Mean Absolute Error (MAE)\n",
    "\n",
    "\n",
    "The mean of the absolute value of errors. For example:\n",
    "- Compare the prediction of the house price to the true house price.\n",
    "\n",
    "Take the difference between true price minus the predicted price & take the absolute value.\n",
    "\n",
    "$$\n",
    "\\text{MAE} = \\frac{1}{n} \\sum_{i=1}^{n} | y_i - \\hat{y}_i |\n",
    "$$\n",
    "\n",
    "\n"
   ],
   "id": "d6b69c8e9b0e5968"
  },
  {
   "metadata": {
    "ExecuteTime": {
     "end_time": "2024-11-18T17:43:48.627162Z",
     "start_time": "2024-11-18T17:43:48.624798Z"
    }
   },
   "cell_type": "code",
   "source": [
    "\"\"\"\n",
    "MAE Example\n",
    "\"\"\"\n",
    "\n"
   ],
   "id": "9a8c962342865e62",
   "outputs": [],
   "execution_count": 1
  },
  {
   "metadata": {},
   "cell_type": "markdown",
   "source": [
    "### Mean Squared Error (MSE)\n",
    "\n",
    "### Root Mean Square Error (RMSE)"
   ],
   "id": "ec1c8c68fd6dcfbb"
  }
 ],
 "metadata": {
  "kernelspec": {
   "display_name": "Python 3",
   "language": "python",
   "name": "python3"
  },
  "language_info": {
   "codemirror_mode": {
    "name": "ipython",
    "version": 2
   },
   "file_extension": ".py",
   "mimetype": "text/x-python",
   "name": "python",
   "nbconvert_exporter": "python",
   "pygments_lexer": "ipython2",
   "version": "2.7.6"
  }
 },
 "nbformat": 4,
 "nbformat_minor": 5
}
