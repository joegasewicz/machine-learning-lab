{
 "cells": [
  {
   "metadata": {},
   "cell_type": "markdown",
   "source": [
    "# Regression Error Metrics\n",
    "Regression is a task when a model attempts to predict continuous values (not categorical values - which is classification)\n",
    "\n",
    "Examples of Evaluating Regression:\n",
    "1. Attempting to predict the price of a house given its features.\n",
    "    - (predicting the country a house is in is classification)\n",
    "    \n",
    "Common Evaluation Metrics:\n",
    "\n",
    "### Mean Absolute Error (MAE)\n",
    "\n",
    "\n",
    "The mean of the absolute value of errors. For example:\n",
    "- Compare the prediction of the house price to the true house price.\n",
    "\n",
    "Take the difference between true price minus the predicted price & take the absolute value.\n",
    "\n",
    "\n",
    "\n",
    "### Mean Squared Error\n",
    "\n",
    "### Root Mean Square Error\n"
   ],
   "id": "d6b69c8e9b0e5968"
  }
 ],
 "metadata": {
  "kernelspec": {
   "display_name": "Python 3",
   "language": "python",
   "name": "python3"
  },
  "language_info": {
   "codemirror_mode": {
    "name": "ipython",
    "version": 2
   },
   "file_extension": ".py",
   "mimetype": "text/x-python",
   "name": "python",
   "nbconvert_exporter": "python",
   "pygments_lexer": "ipython2",
   "version": "2.7.6"
  }
 },
 "nbformat": 4,
 "nbformat_minor": 5
}
