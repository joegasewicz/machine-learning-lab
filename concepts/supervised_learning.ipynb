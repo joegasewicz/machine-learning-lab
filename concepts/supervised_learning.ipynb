{
 "cells": [
  {
   "cell_type": "code",
   "execution_count": null,
   "id": "initial_id",
   "metadata": {
    "collapsed": true
   },
   "outputs": [],
   "source": [
    "\"\"\"\n",
    "Supervised Learning\n",
    "===================\n",
    "Supervised learning algorithms are trained using labeled examples, such as input\n",
    "where the desired output is known.\n",
    "\n",
    "For example, text can have labels such as:\n",
    "- Spam vs Legitimate (emails)\n",
    "- Positive vs Negative (film reviews)\n",
    "\n",
    "A network receives a set of inputs along with corresponding correct outputs & the algorithm leans\n",
    "by comparing its actual output with the correct outputs to find errors.\n",
    "It then modifies the model accordingly.\n",
    "\n",
    "Machine Learning Process\n",
    "========================\n",
    "\n",
    "                                                                        ____________________\n",
    "                                                                       |                    |   \n",
    "                                                                       |    Test Data       |  \n",
    "                                                           / ----->    |____________________|   -------- \\\n",
    "                                                          /                                                 \\\n",
    "                                                        /                                                     \\\n",
    " ____________________                ____________________                ____________________                ____________________\n",
    "|                    |              |                    |              |                    |              |                    |    \n",
    "|  Data Acquisition  |    ----->    |  Data Cleaning     |    ---->     |  Model Training    |    ---->     |  Model Testing     |   -----> Model Deployment    \n",
    "|____________________|              |____________________|              |____________________|              |____________________| \n",
    "                                                                                    \\                               /\n",
    "                                                                                      \\                            /\n",
    "                                                                                        \\                         /\n",
    "                                                                                          -----------------------       \n",
    "                                                                                            Adjust Model Parameters \n",
    "                                                                                            \n",
    "Data can be split into 3 sections:\n",
    "- Training Data (used to train the model parameters)\n",
    "- Validation Data (used to determine what model hyperparameters to adjust\n",
    "- Test Data (used to get some final performance metric)                                                                                                                                                                                                                                                                          \n",
    "\n",
    "\"\"\"\n"
   ]
  }
 ],
 "metadata": {
  "kernelspec": {
   "display_name": "Python 3",
   "language": "python",
   "name": "python3"
  },
  "language_info": {
   "codemirror_mode": {
    "name": "ipython",
    "version": 2
   },
   "file_extension": ".py",
   "mimetype": "text/x-python",
   "name": "python",
   "nbconvert_exporter": "python",
   "pygments_lexer": "ipython2",
   "version": "2.7.6"
  }
 },
 "nbformat": 4,
 "nbformat_minor": 5
}
