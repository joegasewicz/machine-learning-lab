{
 "cells": [
  {
   "cell_type": "code",
   "execution_count": null,
   "id": "initial_id",
   "metadata": {
    "collapsed": true
   },
   "outputs": [],
   "source": [
    "\"\"\"\n",
    "Classification Error Metrics\n",
    "============================\n",
    "\n",
    "Classification: Evaluating Performance\n",
    "--------------------------------------\n",
    "Evaluating performance metrics to evaluate how the model performed.\n",
    "In any classification task the model can only achieve 2 results:\n",
    "1. Correct prediction\n",
    "2. Incorrect prediction\n",
    "\n",
    "The key classification metrics are:\n",
    "==================================\n",
    "Recall vs Precision\n",
    "- Recall expresses the ability to find all relevant instances in a dataset\n",
    "- Precision expresses the proportion of the data points our model says was relevant.\n",
    "\n",
    "Accuracy\n",
    "========\n",
    "Number of correct predictions made by the model divided by the total number of predictions.\n",
    "Accuracy is useful when the target classes are well balanced (e.g equal number of dog vs cat images).\n",
    "The labels are roughly equally represented in the dataset.\n",
    "\n",
    "If there is an unbalanced class situation then accuracy isn't a good metric to use. (e.g 99 images of a dog vs 1 of a cat).\n",
    "Use recall & precision for an unbalanced class situation.\n",
    "\n",
    "Recall\n",
    "======\n",
    "Ability of a model to find all the relevant cases within a dataset.\n",
    "((number of true positives) / (number of true positives + number of false negatives))\n",
    "\n",
    "Precision\n",
    "=========\n",
    "Ability of a classification model to identify only the relevant data points.\n",
    "((number of true positives) / (number of true positives + number of false positives))\n",
    "\n",
    "F1 Score\n",
    "========\n",
    "In cases where we want to find an optimal blend of Recall & Precision, the 2 metrics can be combined, this is called the \"F1 Score\".\n",
    "\n",
    "        precision * recall\n",
    "F1 = 2* ------------------\n",
    "        precision + recall\n",
    "        \n",
    "We use harmonic mean instead of a simple average because it punishes extreme values.\n",
    "A classifier with Precision of 1.0 & a Recall of 0.0 has a simple average of 0.5 but an F1 Score of 0.\n",
    "\n",
    "We can also view all correctly classified vs incorrectly classified images in the form of a \"Confusion Matrix\".\n",
    "\n",
    "\"\"\""
   ]
  }
 ],
 "metadata": {
  "kernelspec": {
   "display_name": "Python 3",
   "language": "python",
   "name": "python3"
  },
  "language_info": {
   "codemirror_mode": {
    "name": "ipython",
    "version": 2
   },
   "file_extension": ".py",
   "mimetype": "text/x-python",
   "name": "python",
   "nbconvert_exporter": "python",
   "pygments_lexer": "ipython2",
   "version": "2.7.6"
  }
 },
 "nbformat": 4,
 "nbformat_minor": 5
}
